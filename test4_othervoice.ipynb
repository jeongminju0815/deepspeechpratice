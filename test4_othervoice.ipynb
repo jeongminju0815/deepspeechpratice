{
 "cells": [
  {
   "cell_type": "code",
   "execution_count": 13,
   "id": "2a2cd528",
   "metadata": {},
   "outputs": [],
   "source": [
    "import pandas as pd\n",
    "import numpy as np"
   ]
  },
  {
   "cell_type": "code",
   "execution_count": 14,
   "id": "b452c60f",
   "metadata": {},
   "outputs": [],
   "source": [
    "othervoice=pd.read_csv(\"othervoice.csv\")"
   ]
  },
  {
   "cell_type": "code",
   "execution_count": 15,
   "id": "f01c035a",
   "metadata": {},
   "outputs": [
    {
     "data": {
      "text/html": [
       "<div>\n",
       "<style scoped>\n",
       "    .dataframe tbody tr th:only-of-type {\n",
       "        vertical-align: middle;\n",
       "    }\n",
       "\n",
       "    .dataframe tbody tr th {\n",
       "        vertical-align: top;\n",
       "    }\n",
       "\n",
       "    .dataframe thead th {\n",
       "        text-align: right;\n",
       "    }\n",
       "</style>\n",
       "<table border=\"1\" class=\"dataframe\">\n",
       "  <thead>\n",
       "    <tr style=\"text-align: right;\">\n",
       "      <th></th>\n",
       "      <th>word</th>\n",
       "    </tr>\n",
       "  </thead>\n",
       "  <tbody>\n",
       "    <tr>\n",
       "      <th>0</th>\n",
       "      <td>whose textbook is this</td>\n",
       "    </tr>\n",
       "    <tr>\n",
       "      <th>1</th>\n",
       "      <td>/content/DeepSpeech/text/ph18-10-1.m4a.16kHz.m...</td>\n",
       "    </tr>\n",
       "    <tr>\n",
       "      <th>2</th>\n",
       "      <td>whose textbook is this</td>\n",
       "    </tr>\n",
       "    <tr>\n",
       "      <th>3</th>\n",
       "      <td>/content/DeepSpeech/text/ph18-10-2.m4a.16kHz.m...</td>\n",
       "    </tr>\n",
       "    <tr>\n",
       "      <th>4</th>\n",
       "      <td>whose textbook is this</td>\n",
       "    </tr>\n",
       "    <tr>\n",
       "      <th>...</th>\n",
       "      <td>...</td>\n",
       "    </tr>\n",
       "    <tr>\n",
       "      <th>199</th>\n",
       "      <td>/content/DeepSpeech/text/ph19-9-1.m4a.16kHz.mo...</td>\n",
       "    </tr>\n",
       "    <tr>\n",
       "      <th>200</th>\n",
       "      <td>what do you want to</td>\n",
       "    </tr>\n",
       "    <tr>\n",
       "      <th>201</th>\n",
       "      <td>/content/DeepSpeech/text/ph19-9-2.m4a.16kHz.mo...</td>\n",
       "    </tr>\n",
       "    <tr>\n",
       "      <th>202</th>\n",
       "      <td>what do you want</td>\n",
       "    </tr>\n",
       "    <tr>\n",
       "      <th>203</th>\n",
       "      <td>/content/DeepSpeech/text/ph19-9-3.m4a.16kHz.mo...</td>\n",
       "    </tr>\n",
       "  </tbody>\n",
       "</table>\n",
       "<p>204 rows × 1 columns</p>\n",
       "</div>"
      ],
      "text/plain": [
       "                                                  word\n",
       "0                               whose textbook is this\n",
       "1    /content/DeepSpeech/text/ph18-10-1.m4a.16kHz.m...\n",
       "2                               whose textbook is this\n",
       "3    /content/DeepSpeech/text/ph18-10-2.m4a.16kHz.m...\n",
       "4                               whose textbook is this\n",
       "..                                                 ...\n",
       "199  /content/DeepSpeech/text/ph19-9-1.m4a.16kHz.mo...\n",
       "200                                what do you want to\n",
       "201  /content/DeepSpeech/text/ph19-9-2.m4a.16kHz.mo...\n",
       "202                                   what do you want\n",
       "203  /content/DeepSpeech/text/ph19-9-3.m4a.16kHz.mo...\n",
       "\n",
       "[204 rows x 1 columns]"
      ]
     },
     "execution_count": 15,
     "metadata": {},
     "output_type": "execute_result"
    }
   ],
   "source": [
    "othervoice"
   ]
  },
  {
   "cell_type": "code",
   "execution_count": 16,
   "id": "29c0247e",
   "metadata": {},
   "outputs": [],
   "source": [
    "word= othervoice.iloc[::2,:].reset_index(drop=True)"
   ]
  },
  {
   "cell_type": "code",
   "execution_count": 17,
   "id": "0444eb12",
   "metadata": {},
   "outputs": [
    {
     "data": {
      "text/html": [
       "<div>\n",
       "<style scoped>\n",
       "    .dataframe tbody tr th:only-of-type {\n",
       "        vertical-align: middle;\n",
       "    }\n",
       "\n",
       "    .dataframe tbody tr th {\n",
       "        vertical-align: top;\n",
       "    }\n",
       "\n",
       "    .dataframe thead th {\n",
       "        text-align: right;\n",
       "    }\n",
       "</style>\n",
       "<table border=\"1\" class=\"dataframe\">\n",
       "  <thead>\n",
       "    <tr style=\"text-align: right;\">\n",
       "      <th></th>\n",
       "      <th>word</th>\n",
       "    </tr>\n",
       "  </thead>\n",
       "  <tbody>\n",
       "    <tr>\n",
       "      <th>0</th>\n",
       "      <td>whose textbook is this</td>\n",
       "    </tr>\n",
       "    <tr>\n",
       "      <th>1</th>\n",
       "      <td>whose textbook is this</td>\n",
       "    </tr>\n",
       "    <tr>\n",
       "      <th>2</th>\n",
       "      <td>whose textbook is this</td>\n",
       "    </tr>\n",
       "    <tr>\n",
       "      <th>3</th>\n",
       "      <td>how was your summer vacation</td>\n",
       "    </tr>\n",
       "    <tr>\n",
       "      <th>4</th>\n",
       "      <td>how was your summer vacation</td>\n",
       "    </tr>\n",
       "    <tr>\n",
       "      <th>...</th>\n",
       "      <td>...</td>\n",
       "    </tr>\n",
       "    <tr>\n",
       "      <th>97</th>\n",
       "      <td>it's time for lunch</td>\n",
       "    </tr>\n",
       "    <tr>\n",
       "      <th>98</th>\n",
       "      <td>it's time for lunch</td>\n",
       "    </tr>\n",
       "    <tr>\n",
       "      <th>99</th>\n",
       "      <td>what do you want</td>\n",
       "    </tr>\n",
       "    <tr>\n",
       "      <th>100</th>\n",
       "      <td>what do you want to</td>\n",
       "    </tr>\n",
       "    <tr>\n",
       "      <th>101</th>\n",
       "      <td>what do you want</td>\n",
       "    </tr>\n",
       "  </tbody>\n",
       "</table>\n",
       "<p>102 rows × 1 columns</p>\n",
       "</div>"
      ],
      "text/plain": [
       "                             word\n",
       "0          whose textbook is this\n",
       "1          whose textbook is this\n",
       "2          whose textbook is this\n",
       "3    how was your summer vacation\n",
       "4    how was your summer vacation\n",
       "..                            ...\n",
       "97            it's time for lunch\n",
       "98            it's time for lunch\n",
       "99               what do you want\n",
       "100           what do you want to\n",
       "101              what do you want\n",
       "\n",
       "[102 rows x 1 columns]"
      ]
     },
     "execution_count": 17,
     "metadata": {},
     "output_type": "execute_result"
    }
   ],
   "source": [
    "word"
   ]
  },
  {
   "cell_type": "code",
   "execution_count": 18,
   "id": "8f244cf2",
   "metadata": {},
   "outputs": [],
   "source": [
    "file= othervoice.iloc[1::2,:].reset_index(drop=True)"
   ]
  },
  {
   "cell_type": "code",
   "execution_count": 19,
   "id": "7c74ce5a",
   "metadata": {},
   "outputs": [
    {
     "data": {
      "text/html": [
       "<div>\n",
       "<style scoped>\n",
       "    .dataframe tbody tr th:only-of-type {\n",
       "        vertical-align: middle;\n",
       "    }\n",
       "\n",
       "    .dataframe tbody tr th {\n",
       "        vertical-align: top;\n",
       "    }\n",
       "\n",
       "    .dataframe thead th {\n",
       "        text-align: right;\n",
       "    }\n",
       "</style>\n",
       "<table border=\"1\" class=\"dataframe\">\n",
       "  <thead>\n",
       "    <tr style=\"text-align: right;\">\n",
       "      <th></th>\n",
       "      <th>word</th>\n",
       "    </tr>\n",
       "  </thead>\n",
       "  <tbody>\n",
       "    <tr>\n",
       "      <th>0</th>\n",
       "      <td>/content/DeepSpeech/text/ph18-10-1.m4a.16kHz.m...</td>\n",
       "    </tr>\n",
       "    <tr>\n",
       "      <th>1</th>\n",
       "      <td>/content/DeepSpeech/text/ph18-10-2.m4a.16kHz.m...</td>\n",
       "    </tr>\n",
       "    <tr>\n",
       "      <th>2</th>\n",
       "      <td>/content/DeepSpeech/text/ph18-10-3.m4a.16kHz.m...</td>\n",
       "    </tr>\n",
       "    <tr>\n",
       "      <th>3</th>\n",
       "      <td>/content/DeepSpeech/text/ph18-11-1.m4a.16kHz.m...</td>\n",
       "    </tr>\n",
       "    <tr>\n",
       "      <th>4</th>\n",
       "      <td>/content/DeepSpeech/text/ph18-11-2.m4a.16kHz.m...</td>\n",
       "    </tr>\n",
       "    <tr>\n",
       "      <th>...</th>\n",
       "      <td>...</td>\n",
       "    </tr>\n",
       "    <tr>\n",
       "      <th>97</th>\n",
       "      <td>/content/DeepSpeech/text/ph19-8-2.m4a.16kHz.mo...</td>\n",
       "    </tr>\n",
       "    <tr>\n",
       "      <th>98</th>\n",
       "      <td>/content/DeepSpeech/text/ph19-8-3.m4a.16kHz.mo...</td>\n",
       "    </tr>\n",
       "    <tr>\n",
       "      <th>99</th>\n",
       "      <td>/content/DeepSpeech/text/ph19-9-1.m4a.16kHz.mo...</td>\n",
       "    </tr>\n",
       "    <tr>\n",
       "      <th>100</th>\n",
       "      <td>/content/DeepSpeech/text/ph19-9-2.m4a.16kHz.mo...</td>\n",
       "    </tr>\n",
       "    <tr>\n",
       "      <th>101</th>\n",
       "      <td>/content/DeepSpeech/text/ph19-9-3.m4a.16kHz.mo...</td>\n",
       "    </tr>\n",
       "  </tbody>\n",
       "</table>\n",
       "<p>102 rows × 1 columns</p>\n",
       "</div>"
      ],
      "text/plain": [
       "                                                  word\n",
       "0    /content/DeepSpeech/text/ph18-10-1.m4a.16kHz.m...\n",
       "1    /content/DeepSpeech/text/ph18-10-2.m4a.16kHz.m...\n",
       "2    /content/DeepSpeech/text/ph18-10-3.m4a.16kHz.m...\n",
       "3    /content/DeepSpeech/text/ph18-11-1.m4a.16kHz.m...\n",
       "4    /content/DeepSpeech/text/ph18-11-2.m4a.16kHz.m...\n",
       "..                                                 ...\n",
       "97   /content/DeepSpeech/text/ph19-8-2.m4a.16kHz.mo...\n",
       "98   /content/DeepSpeech/text/ph19-8-3.m4a.16kHz.mo...\n",
       "99   /content/DeepSpeech/text/ph19-9-1.m4a.16kHz.mo...\n",
       "100  /content/DeepSpeech/text/ph19-9-2.m4a.16kHz.mo...\n",
       "101  /content/DeepSpeech/text/ph19-9-3.m4a.16kHz.mo...\n",
       "\n",
       "[102 rows x 1 columns]"
      ]
     },
     "execution_count": 19,
     "metadata": {},
     "output_type": "execute_result"
    }
   ],
   "source": [
    "file"
   ]
  },
  {
   "cell_type": "code",
   "execution_count": 20,
   "id": "f0115866",
   "metadata": {},
   "outputs": [],
   "source": [
    "file.columns=[\"file\"]"
   ]
  },
  {
   "cell_type": "code",
   "execution_count": 21,
   "id": "669ea86e",
   "metadata": {},
   "outputs": [],
   "source": [
    "othervoice=pd.concat([word,file],axis=1)"
   ]
  },
  {
   "cell_type": "code",
   "execution_count": 22,
   "id": "d7b205ae",
   "metadata": {},
   "outputs": [
    {
     "data": {
      "text/html": [
       "<div>\n",
       "<style scoped>\n",
       "    .dataframe tbody tr th:only-of-type {\n",
       "        vertical-align: middle;\n",
       "    }\n",
       "\n",
       "    .dataframe tbody tr th {\n",
       "        vertical-align: top;\n",
       "    }\n",
       "\n",
       "    .dataframe thead th {\n",
       "        text-align: right;\n",
       "    }\n",
       "</style>\n",
       "<table border=\"1\" class=\"dataframe\">\n",
       "  <thead>\n",
       "    <tr style=\"text-align: right;\">\n",
       "      <th></th>\n",
       "      <th>word</th>\n",
       "      <th>file</th>\n",
       "    </tr>\n",
       "  </thead>\n",
       "  <tbody>\n",
       "    <tr>\n",
       "      <th>0</th>\n",
       "      <td>whose textbook is this</td>\n",
       "      <td>/content/DeepSpeech/text/ph18-10-1.m4a.16kHz.m...</td>\n",
       "    </tr>\n",
       "    <tr>\n",
       "      <th>1</th>\n",
       "      <td>whose textbook is this</td>\n",
       "      <td>/content/DeepSpeech/text/ph18-10-2.m4a.16kHz.m...</td>\n",
       "    </tr>\n",
       "    <tr>\n",
       "      <th>2</th>\n",
       "      <td>whose textbook is this</td>\n",
       "      <td>/content/DeepSpeech/text/ph18-10-3.m4a.16kHz.m...</td>\n",
       "    </tr>\n",
       "    <tr>\n",
       "      <th>3</th>\n",
       "      <td>how was your summer vacation</td>\n",
       "      <td>/content/DeepSpeech/text/ph18-11-1.m4a.16kHz.m...</td>\n",
       "    </tr>\n",
       "    <tr>\n",
       "      <th>4</th>\n",
       "      <td>how was your summer vacation</td>\n",
       "      <td>/content/DeepSpeech/text/ph18-11-2.m4a.16kHz.m...</td>\n",
       "    </tr>\n",
       "    <tr>\n",
       "      <th>...</th>\n",
       "      <td>...</td>\n",
       "      <td>...</td>\n",
       "    </tr>\n",
       "    <tr>\n",
       "      <th>97</th>\n",
       "      <td>it's time for lunch</td>\n",
       "      <td>/content/DeepSpeech/text/ph19-8-2.m4a.16kHz.mo...</td>\n",
       "    </tr>\n",
       "    <tr>\n",
       "      <th>98</th>\n",
       "      <td>it's time for lunch</td>\n",
       "      <td>/content/DeepSpeech/text/ph19-8-3.m4a.16kHz.mo...</td>\n",
       "    </tr>\n",
       "    <tr>\n",
       "      <th>99</th>\n",
       "      <td>what do you want</td>\n",
       "      <td>/content/DeepSpeech/text/ph19-9-1.m4a.16kHz.mo...</td>\n",
       "    </tr>\n",
       "    <tr>\n",
       "      <th>100</th>\n",
       "      <td>what do you want to</td>\n",
       "      <td>/content/DeepSpeech/text/ph19-9-2.m4a.16kHz.mo...</td>\n",
       "    </tr>\n",
       "    <tr>\n",
       "      <th>101</th>\n",
       "      <td>what do you want</td>\n",
       "      <td>/content/DeepSpeech/text/ph19-9-3.m4a.16kHz.mo...</td>\n",
       "    </tr>\n",
       "  </tbody>\n",
       "</table>\n",
       "<p>102 rows × 2 columns</p>\n",
       "</div>"
      ],
      "text/plain": [
       "                             word  \\\n",
       "0          whose textbook is this   \n",
       "1          whose textbook is this   \n",
       "2          whose textbook is this   \n",
       "3    how was your summer vacation   \n",
       "4    how was your summer vacation   \n",
       "..                            ...   \n",
       "97            it's time for lunch   \n",
       "98            it's time for lunch   \n",
       "99               what do you want   \n",
       "100           what do you want to   \n",
       "101              what do you want   \n",
       "\n",
       "                                                  file  \n",
       "0    /content/DeepSpeech/text/ph18-10-1.m4a.16kHz.m...  \n",
       "1    /content/DeepSpeech/text/ph18-10-2.m4a.16kHz.m...  \n",
       "2    /content/DeepSpeech/text/ph18-10-3.m4a.16kHz.m...  \n",
       "3    /content/DeepSpeech/text/ph18-11-1.m4a.16kHz.m...  \n",
       "4    /content/DeepSpeech/text/ph18-11-2.m4a.16kHz.m...  \n",
       "..                                                 ...  \n",
       "97   /content/DeepSpeech/text/ph19-8-2.m4a.16kHz.mo...  \n",
       "98   /content/DeepSpeech/text/ph19-8-3.m4a.16kHz.mo...  \n",
       "99   /content/DeepSpeech/text/ph19-9-1.m4a.16kHz.mo...  \n",
       "100  /content/DeepSpeech/text/ph19-9-2.m4a.16kHz.mo...  \n",
       "101  /content/DeepSpeech/text/ph19-9-3.m4a.16kHz.mo...  \n",
       "\n",
       "[102 rows x 2 columns]"
      ]
     },
     "execution_count": 22,
     "metadata": {},
     "output_type": "execute_result"
    }
   ],
   "source": [
    "othervoice"
   ]
  },
  {
   "cell_type": "code",
   "execution_count": 26,
   "id": "cf77c281",
   "metadata": {},
   "outputs": [],
   "source": [
    "sentence1=[\"what'sthis\",\"whatsthis\",\"whatisthis\",\"it'saball\",\"itisaball\",\"itsaball\",'doyoulikepizza','howoldareyou',\"it'sonthetable\",\"itsonthetable\",\"itisonthetable\",'isthisyourumbrella','whatareyoudoing',\"it'stimeforlunch\",\"itstimeforlunch\",\"itistimeforlunch\",'whatdoyouwant','whosetextbookisthis','howwasyoursummervacation','whatdidyoudolastweekend','caniborrowyourscissors','whatgradeareyouin',\"what'swrong\",\"whatiswrong\",\"whatswrong\",'thegreenbagisheavierthanthebluebag','whyareyouexcited']"
   ]
  },
  {
   "cell_type": "code",
   "execution_count": 40,
   "id": "c3453681",
   "metadata": {},
   "outputs": [],
   "source": [
    "othervoice[\"word\"]=[othervoice[\"word\"][i].replace(\" \",\"\") for i in range(len(othervoice))]"
   ]
  },
  {
   "cell_type": "code",
   "execution_count": 48,
   "id": "daac8128",
   "metadata": {},
   "outputs": [],
   "source": [
    "othervoice[\"check\"]=\"x\""
   ]
  },
  {
   "cell_type": "code",
   "execution_count": 49,
   "id": "e5990595",
   "metadata": {},
   "outputs": [
    {
     "name": "stdout",
     "output_type": "stream",
     "text": [
      "whosetextbookisthis whosetextbookisthis\n",
      "whosetextbookisthis whosetextbookisthis\n",
      "whosetextbookisthis whosetextbookisthis\n",
      "howwasyoursummervacation howwasyoursummervacation\n",
      "howwasyoursummervacation howwasyoursummervacation\n",
      "howwasyoursummervacation howwasyoursummervacation\n",
      "what'sthis what'sthis\n",
      "whatdidyoudolastweekend whatdidyoudolastweekend\n",
      "whatdidyoudolastweekend whatdidyoudolastweekend\n",
      "whatdidyoudolastweekend whatdidyoudolastweekend\n",
      "what'sthis what'sthis\n",
      "what'sthis what'sthis\n",
      "whatgradeareyouin whatgradeareyouin\n",
      "whatgradeareyouin whatgradeareyouin\n",
      "what'swrong what'swrong\n",
      "what'swrong what'swrong\n",
      "it'saball it'saball\n",
      "it'saball it'saball\n",
      "doyoulikepizza doyoulikepizza\n",
      "doyoulikepizza doyoulikepizza\n",
      "howoldareyou howoldareyou\n",
      "howoldareyou howoldareyou\n",
      "howoldareyou howoldareyou\n",
      "it'sonthetable it'sonthetable\n",
      "it'sonthetable it'sonthetable\n",
      "it'sonthetable it'sonthetable\n",
      "whatareyoudoing whatareyoudoing\n",
      "whatareyoudoing whatareyoudoing\n",
      "whatareyoudoing whatareyoudoing\n",
      "it'stimeforlunch it'stimeforlunch\n",
      "it'stimeforlunch it'stimeforlunch\n",
      "it'stimeforlunch it'stimeforlunch\n",
      "whatdoyouwant whatdoyouwant\n",
      "whatdoyouwant whatdoyouwant\n",
      "whosetextbookisthis whosetextbookisthis\n",
      "whosetextbookisthis whosetextbookisthis\n",
      "howwasyoursummervacation howwasyoursummervacation\n",
      "howwasyoursummervacation howwasyoursummervacation\n",
      "howwasyoursummervacation howwasyoursummervacation\n",
      "what'sthis what'sthis\n",
      "whatdidyoudolastweekend whatdidyoudolastweekend\n",
      "whatdidyoudolastweekend whatdidyoudolastweekend\n",
      "whatdidyoudolastweekend whatdidyoudolastweekend\n",
      "what'sthis what'sthis\n",
      "caniborrowyourscissors caniborrowyourscissors\n",
      "caniborrowyourscissors caniborrowyourscissors\n",
      "caniborrowyourscissors caniborrowyourscissors\n",
      "what'sthis what'sthis\n",
      "whatgradeareyouin whatgradeareyouin\n",
      "whatgradeareyouin whatgradeareyouin\n",
      "whatgradeareyouin whatgradeareyouin\n",
      "what'swrong what'swrong\n",
      "what'swrong what'swrong\n",
      "thegreenbagisheavierthanthebluebag thegreenbagisheavierthanthebluebag\n",
      "thegreenbagisheavierthanthebluebag thegreenbagisheavierthanthebluebag\n",
      "whyareyouexcited whyareyouexcited\n",
      "whyareyouexcited whyareyouexcited\n",
      "whyareyouexcited whyareyouexcited\n",
      "it'saball it'saball\n",
      "it'saball it'saball\n",
      "doyoulikepizza doyoulikepizza\n",
      "doyoulikepizza doyoulikepizza\n",
      "doyoulikepizza doyoulikepizza\n",
      "howoldareyou howoldareyou\n",
      "howoldareyou howoldareyou\n",
      "howoldareyou howoldareyou\n",
      "it'sonthetable it'sonthetable\n",
      "it'sonthetable it'sonthetable\n",
      "it'sonthetable it'sonthetable\n",
      "isthisyourumbrella isthisyourumbrella\n",
      "isthisyourumbrella isthisyourumbrella\n",
      "isthisyourumbrella isthisyourumbrella\n",
      "whatareyoudoing whatareyoudoing\n",
      "whatareyoudoing whatareyoudoing\n",
      "whatareyoudoing whatareyoudoing\n",
      "it'stimeforlunch it'stimeforlunch\n",
      "it'stimeforlunch it'stimeforlunch\n",
      "it'stimeforlunch it'stimeforlunch\n",
      "whatdoyouwant whatdoyouwant\n",
      "whatdoyouwant whatdoyouwant\n"
     ]
    }
   ],
   "source": [
    "count=0\n",
    "for name,item in othervoice.iterrows():\n",
    "    for file in sentence1:\n",
    "        if(item['word']==file):\n",
    "            print(item[\"word\"],file)\n",
    "            count+=1\n",
    "            item[\"check\"]=\"o\""
   ]
  },
  {
   "cell_type": "code",
   "execution_count": 50,
   "id": "0cfd958c",
   "metadata": {},
   "outputs": [
    {
     "data": {
      "text/plain": [
       "80"
      ]
     },
     "execution_count": 50,
     "metadata": {},
     "output_type": "execute_result"
    }
   ],
   "source": [
    "count"
   ]
  },
  {
   "cell_type": "code",
   "execution_count": 51,
   "id": "083581dc",
   "metadata": {},
   "outputs": [
    {
     "data": {
      "text/html": [
       "<div>\n",
       "<style scoped>\n",
       "    .dataframe tbody tr th:only-of-type {\n",
       "        vertical-align: middle;\n",
       "    }\n",
       "\n",
       "    .dataframe tbody tr th {\n",
       "        vertical-align: top;\n",
       "    }\n",
       "\n",
       "    .dataframe thead th {\n",
       "        text-align: right;\n",
       "    }\n",
       "</style>\n",
       "<table border=\"1\" class=\"dataframe\">\n",
       "  <thead>\n",
       "    <tr style=\"text-align: right;\">\n",
       "      <th></th>\n",
       "      <th>word</th>\n",
       "      <th>file</th>\n",
       "      <th>check</th>\n",
       "    </tr>\n",
       "  </thead>\n",
       "  <tbody>\n",
       "    <tr>\n",
       "      <th>0</th>\n",
       "      <td>whosetextbookisthis</td>\n",
       "      <td>/content/DeepSpeech/text/ph18-10-1.m4a.16kHz.m...</td>\n",
       "      <td>o</td>\n",
       "    </tr>\n",
       "    <tr>\n",
       "      <th>1</th>\n",
       "      <td>whosetextbookisthis</td>\n",
       "      <td>/content/DeepSpeech/text/ph18-10-2.m4a.16kHz.m...</td>\n",
       "      <td>o</td>\n",
       "    </tr>\n",
       "    <tr>\n",
       "      <th>2</th>\n",
       "      <td>whosetextbookisthis</td>\n",
       "      <td>/content/DeepSpeech/text/ph18-10-3.m4a.16kHz.m...</td>\n",
       "      <td>o</td>\n",
       "    </tr>\n",
       "    <tr>\n",
       "      <th>3</th>\n",
       "      <td>howwasyoursummervacation</td>\n",
       "      <td>/content/DeepSpeech/text/ph18-11-1.m4a.16kHz.m...</td>\n",
       "      <td>o</td>\n",
       "    </tr>\n",
       "    <tr>\n",
       "      <th>4</th>\n",
       "      <td>howwasyoursummervacation</td>\n",
       "      <td>/content/DeepSpeech/text/ph18-11-2.m4a.16kHz.m...</td>\n",
       "      <td>o</td>\n",
       "    </tr>\n",
       "    <tr>\n",
       "      <th>...</th>\n",
       "      <td>...</td>\n",
       "      <td>...</td>\n",
       "      <td>...</td>\n",
       "    </tr>\n",
       "    <tr>\n",
       "      <th>97</th>\n",
       "      <td>it'stimeforlunch</td>\n",
       "      <td>/content/DeepSpeech/text/ph19-8-2.m4a.16kHz.mo...</td>\n",
       "      <td>o</td>\n",
       "    </tr>\n",
       "    <tr>\n",
       "      <th>98</th>\n",
       "      <td>it'stimeforlunch</td>\n",
       "      <td>/content/DeepSpeech/text/ph19-8-3.m4a.16kHz.mo...</td>\n",
       "      <td>o</td>\n",
       "    </tr>\n",
       "    <tr>\n",
       "      <th>99</th>\n",
       "      <td>whatdoyouwant</td>\n",
       "      <td>/content/DeepSpeech/text/ph19-9-1.m4a.16kHz.mo...</td>\n",
       "      <td>o</td>\n",
       "    </tr>\n",
       "    <tr>\n",
       "      <th>100</th>\n",
       "      <td>whatdoyouwantto</td>\n",
       "      <td>/content/DeepSpeech/text/ph19-9-2.m4a.16kHz.mo...</td>\n",
       "      <td>x</td>\n",
       "    </tr>\n",
       "    <tr>\n",
       "      <th>101</th>\n",
       "      <td>whatdoyouwant</td>\n",
       "      <td>/content/DeepSpeech/text/ph19-9-3.m4a.16kHz.mo...</td>\n",
       "      <td>o</td>\n",
       "    </tr>\n",
       "  </tbody>\n",
       "</table>\n",
       "<p>102 rows × 3 columns</p>\n",
       "</div>"
      ],
      "text/plain": [
       "                         word  \\\n",
       "0         whosetextbookisthis   \n",
       "1         whosetextbookisthis   \n",
       "2         whosetextbookisthis   \n",
       "3    howwasyoursummervacation   \n",
       "4    howwasyoursummervacation   \n",
       "..                        ...   \n",
       "97           it'stimeforlunch   \n",
       "98           it'stimeforlunch   \n",
       "99              whatdoyouwant   \n",
       "100           whatdoyouwantto   \n",
       "101             whatdoyouwant   \n",
       "\n",
       "                                                  file check  \n",
       "0    /content/DeepSpeech/text/ph18-10-1.m4a.16kHz.m...     o  \n",
       "1    /content/DeepSpeech/text/ph18-10-2.m4a.16kHz.m...     o  \n",
       "2    /content/DeepSpeech/text/ph18-10-3.m4a.16kHz.m...     o  \n",
       "3    /content/DeepSpeech/text/ph18-11-1.m4a.16kHz.m...     o  \n",
       "4    /content/DeepSpeech/text/ph18-11-2.m4a.16kHz.m...     o  \n",
       "..                                                 ...   ...  \n",
       "97   /content/DeepSpeech/text/ph19-8-2.m4a.16kHz.mo...     o  \n",
       "98   /content/DeepSpeech/text/ph19-8-3.m4a.16kHz.mo...     o  \n",
       "99   /content/DeepSpeech/text/ph19-9-1.m4a.16kHz.mo...     o  \n",
       "100  /content/DeepSpeech/text/ph19-9-2.m4a.16kHz.mo...     x  \n",
       "101  /content/DeepSpeech/text/ph19-9-3.m4a.16kHz.mo...     o  \n",
       "\n",
       "[102 rows x 3 columns]"
      ]
     },
     "execution_count": 51,
     "metadata": {},
     "output_type": "execute_result"
    }
   ],
   "source": [
    "othervoice"
   ]
  },
  {
   "cell_type": "code",
   "execution_count": 44,
   "id": "d36f1c22",
   "metadata": {},
   "outputs": [
    {
     "data": {
      "text/plain": [
       "102"
      ]
     },
     "execution_count": 44,
     "metadata": {},
     "output_type": "execute_result"
    }
   ],
   "source": [
    "17*3*2"
   ]
  },
  {
   "cell_type": "code",
   "execution_count": 52,
   "id": "e76b5a1b",
   "metadata": {},
   "outputs": [],
   "source": [
    "othervoice.to_csv(\"othervoice1.csv\")"
   ]
  },
  {
   "cell_type": "code",
   "execution_count": 53,
   "id": "c24d2df4",
   "metadata": {},
   "outputs": [],
   "source": [
    "accuracy=(count/len(othervoice)*100)"
   ]
  },
  {
   "cell_type": "code",
   "execution_count": 54,
   "id": "381a566d",
   "metadata": {},
   "outputs": [
    {
     "data": {
      "text/plain": [
       "78.43137254901961"
      ]
     },
     "execution_count": 54,
     "metadata": {},
     "output_type": "execute_result"
    }
   ],
   "source": [
    "accuracy"
   ]
  },
  {
   "cell_type": "code",
   "execution_count": 55,
   "id": "01388597",
   "metadata": {},
   "outputs": [
    {
     "data": {
      "text/html": [
       "<div>\n",
       "<style scoped>\n",
       "    .dataframe tbody tr th:only-of-type {\n",
       "        vertical-align: middle;\n",
       "    }\n",
       "\n",
       "    .dataframe tbody tr th {\n",
       "        vertical-align: top;\n",
       "    }\n",
       "\n",
       "    .dataframe thead th {\n",
       "        text-align: right;\n",
       "    }\n",
       "</style>\n",
       "<table border=\"1\" class=\"dataframe\">\n",
       "  <thead>\n",
       "    <tr style=\"text-align: right;\">\n",
       "      <th></th>\n",
       "      <th>word</th>\n",
       "    </tr>\n",
       "  </thead>\n",
       "  <tbody>\n",
       "    <tr>\n",
       "      <th>0</th>\n",
       "      <td>whose textbook is this</td>\n",
       "    </tr>\n",
       "    <tr>\n",
       "      <th>1</th>\n",
       "      <td>whose textbook is this</td>\n",
       "    </tr>\n",
       "    <tr>\n",
       "      <th>2</th>\n",
       "      <td>whose textbook is this</td>\n",
       "    </tr>\n",
       "    <tr>\n",
       "      <th>3</th>\n",
       "      <td>how was your summer vacation</td>\n",
       "    </tr>\n",
       "    <tr>\n",
       "      <th>4</th>\n",
       "      <td>how was your summer vacation</td>\n",
       "    </tr>\n",
       "    <tr>\n",
       "      <th>...</th>\n",
       "      <td>...</td>\n",
       "    </tr>\n",
       "    <tr>\n",
       "      <th>97</th>\n",
       "      <td>it's time for lunch</td>\n",
       "    </tr>\n",
       "    <tr>\n",
       "      <th>98</th>\n",
       "      <td>it's time for lunch</td>\n",
       "    </tr>\n",
       "    <tr>\n",
       "      <th>99</th>\n",
       "      <td>what do you want</td>\n",
       "    </tr>\n",
       "    <tr>\n",
       "      <th>100</th>\n",
       "      <td>what do you want to</td>\n",
       "    </tr>\n",
       "    <tr>\n",
       "      <th>101</th>\n",
       "      <td>what do you want</td>\n",
       "    </tr>\n",
       "  </tbody>\n",
       "</table>\n",
       "<p>102 rows × 1 columns</p>\n",
       "</div>"
      ],
      "text/plain": [
       "                             word\n",
       "0          whose textbook is this\n",
       "1          whose textbook is this\n",
       "2          whose textbook is this\n",
       "3    how was your summer vacation\n",
       "4    how was your summer vacation\n",
       "..                            ...\n",
       "97            it's time for lunch\n",
       "98            it's time for lunch\n",
       "99               what do you want\n",
       "100           what do you want to\n",
       "101              what do you want\n",
       "\n",
       "[102 rows x 1 columns]"
      ]
     },
     "execution_count": 55,
     "metadata": {},
     "output_type": "execute_result"
    }
   ],
   "source": [
    "word"
   ]
  },
  {
   "cell_type": "code",
   "execution_count": 56,
   "id": "66fb6c82",
   "metadata": {},
   "outputs": [],
   "source": [
    "originsentence=[\"what's this\",\"it's a ball\",'do you like pizza','how old are you',\"it's on the table\",'is this your umbrella','what are you doing',\"it's time for lunch\",'what do you want','whose textbook is this','how was your summer vacation','wat did you do last weekend','can i borrow your scissors','what grade are you in',\"what's wrong\",'the green bag is heavier than the blue bag','why are you excited']"
   ]
  },
  {
   "cell_type": "code",
   "execution_count": 57,
   "id": "f48004a5",
   "metadata": {},
   "outputs": [],
   "source": [
    "count=0\n",
    "for name,item in word.iterrows():\n",
    "    for word1 in originsentence:\n",
    "        if(item['word']==word1):\n",
    "            count+=1"
   ]
  },
  {
   "cell_type": "code",
   "execution_count": 58,
   "id": "d8d5a73a",
   "metadata": {},
   "outputs": [
    {
     "data": {
      "text/plain": [
       "74"
      ]
     },
     "execution_count": 58,
     "metadata": {},
     "output_type": "execute_result"
    }
   ],
   "source": [
    "count"
   ]
  },
  {
   "cell_type": "code",
   "execution_count": 59,
   "id": "05e6d6c5",
   "metadata": {},
   "outputs": [],
   "source": [
    "accuracy=(count/len(word)*100)"
   ]
  },
  {
   "cell_type": "code",
   "execution_count": 60,
   "id": "ad81cc8a",
   "metadata": {},
   "outputs": [
    {
     "data": {
      "text/plain": [
       "72.54901960784314"
      ]
     },
     "execution_count": 60,
     "metadata": {},
     "output_type": "execute_result"
    }
   ],
   "source": [
    "accuracy"
   ]
  },
  {
   "cell_type": "code",
   "execution_count": null,
   "id": "3277b7ae",
   "metadata": {},
   "outputs": [],
   "source": []
  }
 ],
 "metadata": {
  "kernelspec": {
   "display_name": "Python 3",
   "language": "python",
   "name": "python3"
  },
  "language_info": {
   "codemirror_mode": {
    "name": "ipython",
    "version": 3
   },
   "file_extension": ".py",
   "mimetype": "text/x-python",
   "name": "python",
   "nbconvert_exporter": "python",
   "pygments_lexer": "ipython3",
   "version": "3.8.8"
  }
 },
 "nbformat": 4,
 "nbformat_minor": 5
}
